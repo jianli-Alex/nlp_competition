{
 "cells": [
  {
   "cell_type": "code",
   "execution_count": 1,
   "metadata": {
    "ExecuteTime": {
     "end_time": "2020-08-01T06:53:06.765228Z",
     "start_time": "2020-08-01T06:53:06.748442Z"
    }
   },
   "outputs": [
    {
     "name": "stdout",
     "output_type": "stream",
     "text": [
      "Pretty printing has been turned OFF\n"
     ]
    }
   ],
   "source": [
    "%config ZMQInteractiveShell.ast_node_interactivity = \"all\"\n",
    "%pprint"
   ]
  },
  {
   "cell_type": "markdown",
   "metadata": {},
   "source": [
    "# 载入工具库"
   ]
  },
  {
   "cell_type": "code",
   "execution_count": 110,
   "metadata": {
    "ExecuteTime": {
     "end_time": "2020-08-01T15:19:43.851512Z",
     "start_time": "2020-08-01T15:19:43.844108Z"
    }
   },
   "outputs": [],
   "source": [
    "import numpy as np\n",
    "import pandas as pd\n",
    "import matplotlib.pyplot as plt\n",
    "import seaborn as sns\n",
    "import scipy\n",
    "import warnings\n",
    "warnings.filterwarnings(\"ignore\")"
   ]
  },
  {
   "cell_type": "code",
   "execution_count": 111,
   "metadata": {
    "ExecuteTime": {
     "end_time": "2020-08-01T15:19:43.955193Z",
     "start_time": "2020-08-01T15:19:43.950227Z"
    }
   },
   "outputs": [],
   "source": [
    "# 设置图形尺寸\n",
    "%matplotlib inline\n",
    "plt.rcParams[\"figure.figsize\"] = [14, 7]\n",
    "plt.rcParams[\"font.size\"] = 14"
   ]
  },
  {
   "cell_type": "markdown",
   "metadata": {},
   "source": [
    "# EDA"
   ]
  },
  {
   "cell_type": "markdown",
   "metadata": {},
   "source": [
    "## 数据载入"
   ]
  },
  {
   "cell_type": "code",
   "execution_count": 11,
   "metadata": {
    "ExecuteTime": {
     "end_time": "2020-08-01T07:00:39.267064Z",
     "start_time": "2020-08-01T07:00:32.013711Z"
    }
   },
   "outputs": [],
   "source": [
    "# 数据载入\n",
    "train_df = pd.read_csv(\"../data/train_set.csv\", index_col = False, sep = \"\\t\")\n",
    "test_df = pd.read_csv(\"../data/test_a.csv\", index_col = False)"
   ]
  },
  {
   "cell_type": "markdown",
   "metadata": {},
   "source": [
    "## 数据几部曲"
   ]
  },
  {
   "cell_type": "code",
   "execution_count": 12,
   "metadata": {
    "ExecuteTime": {
     "end_time": "2020-08-01T07:00:42.092815Z",
     "start_time": "2020-08-01T07:00:42.047954Z"
    }
   },
   "outputs": [
    {
     "data": {
      "text/html": [
       "<div>\n",
       "<style scoped>\n",
       "    .dataframe tbody tr th:only-of-type {\n",
       "        vertical-align: middle;\n",
       "    }\n",
       "\n",
       "    .dataframe tbody tr th {\n",
       "        vertical-align: top;\n",
       "    }\n",
       "\n",
       "    .dataframe thead th {\n",
       "        text-align: right;\n",
       "    }\n",
       "</style>\n",
       "<table border=\"1\" class=\"dataframe\">\n",
       "  <thead>\n",
       "    <tr style=\"text-align: right;\">\n",
       "      <th></th>\n",
       "      <th>label</th>\n",
       "      <th>text</th>\n",
       "    </tr>\n",
       "  </thead>\n",
       "  <tbody>\n",
       "    <tr>\n",
       "      <th>0</th>\n",
       "      <td>2</td>\n",
       "      <td>2967 6758 339 2021 1854 3731 4109 3792 4149 15...</td>\n",
       "    </tr>\n",
       "    <tr>\n",
       "      <th>1</th>\n",
       "      <td>11</td>\n",
       "      <td>4464 486 6352 5619 2465 4802 1452 3137 5778 54...</td>\n",
       "    </tr>\n",
       "    <tr>\n",
       "      <th>2</th>\n",
       "      <td>3</td>\n",
       "      <td>7346 4068 5074 3747 5681 6093 1777 2226 7354 6...</td>\n",
       "    </tr>\n",
       "    <tr>\n",
       "      <th>3</th>\n",
       "      <td>2</td>\n",
       "      <td>7159 948 4866 2109 5520 2490 211 3956 5520 549...</td>\n",
       "    </tr>\n",
       "    <tr>\n",
       "      <th>4</th>\n",
       "      <td>3</td>\n",
       "      <td>3646 3055 3055 2490 4659 6065 3370 5814 2465 5...</td>\n",
       "    </tr>\n",
       "  </tbody>\n",
       "</table>\n",
       "</div>"
      ],
      "text/plain": [
       "   label                                               text\n",
       "0      2  2967 6758 339 2021 1854 3731 4109 3792 4149 15...\n",
       "1     11  4464 486 6352 5619 2465 4802 1452 3137 5778 54...\n",
       "2      3  7346 4068 5074 3747 5681 6093 1777 2226 7354 6...\n",
       "3      2  7159 948 4866 2109 5520 2490 211 3956 5520 549...\n",
       "4      3  3646 3055 3055 2490 4659 6065 3370 5814 2465 5..."
      ]
     },
     "execution_count": 12,
     "metadata": {},
     "output_type": "execute_result"
    },
    {
     "data": {
      "text/html": [
       "<div>\n",
       "<style scoped>\n",
       "    .dataframe tbody tr th:only-of-type {\n",
       "        vertical-align: middle;\n",
       "    }\n",
       "\n",
       "    .dataframe tbody tr th {\n",
       "        vertical-align: top;\n",
       "    }\n",
       "\n",
       "    .dataframe thead th {\n",
       "        text-align: right;\n",
       "    }\n",
       "</style>\n",
       "<table border=\"1\" class=\"dataframe\">\n",
       "  <thead>\n",
       "    <tr style=\"text-align: right;\">\n",
       "      <th></th>\n",
       "      <th>text</th>\n",
       "    </tr>\n",
       "  </thead>\n",
       "  <tbody>\n",
       "    <tr>\n",
       "      <th>0</th>\n",
       "      <td>5399 3117 1070 4321 4568 2621 5466 3772 4516 2...</td>\n",
       "    </tr>\n",
       "    <tr>\n",
       "      <th>1</th>\n",
       "      <td>2491 4109 1757 7539 648 3695 3038 4490 23 7019...</td>\n",
       "    </tr>\n",
       "    <tr>\n",
       "      <th>2</th>\n",
       "      <td>2673 5076 6835 2835 5948 5677 3247 4124 2465 5...</td>\n",
       "    </tr>\n",
       "    <tr>\n",
       "      <th>3</th>\n",
       "      <td>4562 4893 2210 4761 3659 1324 2595 5949 4583 2...</td>\n",
       "    </tr>\n",
       "    <tr>\n",
       "      <th>4</th>\n",
       "      <td>4269 7134 2614 1724 4464 1324 3370 3370 2106 2...</td>\n",
       "    </tr>\n",
       "  </tbody>\n",
       "</table>\n",
       "</div>"
      ],
      "text/plain": [
       "                                                text\n",
       "0  5399 3117 1070 4321 4568 2621 5466 3772 4516 2...\n",
       "1  2491 4109 1757 7539 648 3695 3038 4490 23 7019...\n",
       "2  2673 5076 6835 2835 5948 5677 3247 4124 2465 5...\n",
       "3  4562 4893 2210 4761 3659 1324 2595 5949 4583 2...\n",
       "4  4269 7134 2614 1724 4464 1324 3370 3370 2106 2..."
      ]
     },
     "execution_count": 12,
     "metadata": {},
     "output_type": "execute_result"
    }
   ],
   "source": [
    "# 数据几部曲\n",
    "# 看一下数据的前几行\n",
    "train_df.head()\n",
    "test_df.head()"
   ]
  },
  {
   "cell_type": "code",
   "execution_count": 16,
   "metadata": {
    "ExecuteTime": {
     "end_time": "2020-08-01T07:07:17.682245Z",
     "start_time": "2020-08-01T07:07:17.611952Z"
    }
   },
   "outputs": [
    {
     "name": "stdout",
     "output_type": "stream",
     "text": [
      "训练集维度 (200000, 2)\n",
      "测试集维度 (50000, 1)\n"
     ]
    },
    {
     "data": {
      "text/plain": [
       "label    0\n",
       "text     0\n",
       "dtype: int64"
      ]
     },
     "execution_count": 16,
     "metadata": {},
     "output_type": "execute_result"
    },
    {
     "data": {
      "text/plain": [
       "text    0\n",
       "dtype: int64"
      ]
     },
     "execution_count": 16,
     "metadata": {},
     "output_type": "execute_result"
    }
   ],
   "source": [
    "# 数据维度\n",
    "print(\"训练集维度\", train_df.shape)\n",
    "print(\"测试集维度\", test_df.shape)\n",
    "\n",
    "# 缺失值情况\n",
    "train_df.isnull().sum()\n",
    "test_df.isnull().sum()"
   ]
  },
  {
   "cell_type": "markdown",
   "metadata": {
    "ExecuteTime": {
     "end_time": "2020-08-01T07:06:39.381917Z",
     "start_time": "2020-08-01T07:06:39.359698Z"
    }
   },
   "source": [
    "小结：\n",
    "1. 训练集有200000行数据，有两个变量（标签和文本）\n",
    "2. 测试集有50000行数据，有一个变量（文本）\n",
    "3. 该数据为脱敏数据，分词时通过\" \"来分割，不能使用开源的词向量（如腾讯词向量），需要自己训练词向量"
   ]
  },
  {
   "cell_type": "markdown",
   "metadata": {},
   "source": [
    "## 标签统计"
   ]
  },
  {
   "cell_type": "code",
   "execution_count": 19,
   "metadata": {
    "ExecuteTime": {
     "end_time": "2020-08-01T07:23:39.881510Z",
     "start_time": "2020-08-01T07:23:39.875920Z"
    }
   },
   "outputs": [],
   "source": [
    "# 标签的对应关系\n",
    "label_dict = {\"科技\":0, \"股票\":1, \"体育\":2, \"娱乐\":3, \"时政\":4, \"社会\":5, \"教育\":6, \n",
    "             \"财经\":7, \"家居\":8, \"游戏\":9, \"房产\":10, \"时尚\":11, \"彩票\":12, \"星座\":13}"
   ]
  },
  {
   "cell_type": "code",
   "execution_count": 42,
   "metadata": {
    "ExecuteTime": {
     "end_time": "2020-08-01T07:36:05.148408Z",
     "start_time": "2020-08-01T07:36:04.945448Z"
    }
   },
   "outputs": [
    {
     "data": {
      "text/plain": [
       "<matplotlib.axes._subplots.AxesSubplot object at 0x7fcde3295fd0>"
      ]
     },
     "execution_count": 42,
     "metadata": {},
     "output_type": "execute_result"
    },
    {
     "data": {
      "text/plain": [
       "Text(0.5, 0, '新闻类型')"
      ]
     },
     "execution_count": 42,
     "metadata": {},
     "output_type": "execute_result"
    },
    {
     "data": {
      "text/plain": [
       "Text(0, 0.5, '数量')"
      ]
     },
     "execution_count": 42,
     "metadata": {},
     "output_type": "execute_result"
    },
    {
     "data": {
      "text/plain": [
       "Text(0.5, 1.0, '新闻各类型的数量分布')"
      ]
     },
     "execution_count": 42,
     "metadata": {},
     "output_type": "execute_result"
    },
    {
     "data": {
      "image/png": "[encoded data removed]",
      "text/plain": [
       "<Figure size 1008x504 with 1 Axes>"
      ]
     },
     "metadata": {
      "needs_background": "light"
     },
     "output_type": "display_data"
    }
   ],
   "source": [
    "label_count_series = train_df.label.value_counts()\n",
    "label_count_series.index = list(map(lambda x: x[0], \\\n",
    "                                    sorted(label_dict.items(), key=lambda x: x[1])))\n",
    "\n",
    "label_count_series.plot.bar(rot = 60)\n",
    "plt.xlabel(\"新闻类型\")\n",
    "plt.ylabel(\"数量\")\n",
    "plt.title(\"新闻各类型的数量分布\")"
   ]
  },
  {
   "cell_type": "code",
   "execution_count": 50,
   "metadata": {
    "ExecuteTime": {
     "end_time": "2020-08-01T07:42:57.224791Z",
     "start_time": "2020-08-01T07:42:57.022918Z"
    }
   },
   "outputs": [
    {
     "data": {
      "text/plain": [
       "<matplotlib.axes._subplots.AxesSubplot object at 0x7fcde2f0ec90>"
      ]
     },
     "execution_count": 50,
     "metadata": {},
     "output_type": "execute_result"
    },
    {
     "data": {
      "text/plain": [
       "Text(0.5, 0, '新闻类型')"
      ]
     },
     "execution_count": 50,
     "metadata": {},
     "output_type": "execute_result"
    },
    {
     "data": {
      "text/plain": [
       "Text(0.5, 0, '比值')"
      ]
     },
     "execution_count": 50,
     "metadata": {},
     "output_type": "execute_result"
    },
    {
     "data": {
      "text/plain": [
       "Text(0.5, 1.0, '各新闻类型数量的比值')"
      ]
     },
     "execution_count": 50,
     "metadata": {},
     "output_type": "execute_result"
    },
    {
     "data": {
      "image/png": "[encoded data removed]",
      "text/plain": [
       "<Figure size 1008x504 with 1 Axes>"
      ]
     },
     "metadata": {
      "needs_background": "light"
     },
     "output_type": "display_data"
    }
   ],
   "source": [
    "(label_count_series / label_count_series[-1]).plot.bar(rot = 60)\n",
    "plt.xlabel(\"新闻类型\")\n",
    "plt.xlabel(\"比值\")\n",
    "plt.title(\"各新闻类型数量的比值\")"
   ]
  },
  {
   "cell_type": "markdown",
   "metadata": {},
   "source": [
    "小结：\n",
    "1. 可以看出科技新闻的数量最多，星座新闻的数量最少\n",
    "2. 训练集存在类别不均衡的情况\n",
    "    - 最高相差40+倍"
   ]
  },
  {
   "cell_type": "markdown",
   "metadata": {},
   "source": [
    "## 字符统计"
   ]
  },
  {
   "cell_type": "markdown",
   "metadata": {},
   "source": [
    "长文本和短文本使用不同的方法不尽相同，因此有必要分析文本有多少字符"
   ]
  },
  {
   "cell_type": "markdown",
   "metadata": {},
   "source": [
    "### 统计汇总"
   ]
  },
  {
   "cell_type": "code",
   "execution_count": null,
   "metadata": {},
   "outputs": [],
   "source": [
    "train_char_len = train_df.text.apply(lambda x: len(x.split(\" \")))\n",
    "test_char_len = test_df.text.apply(lambda x: len(x.split(\" \")))"
   ]
  },
  {
   "cell_type": "code",
   "execution_count": 65,
   "metadata": {
    "ExecuteTime": {
     "end_time": "2020-08-01T08:09:51.681096Z",
     "start_time": "2020-08-01T08:09:51.653655Z"
    }
   },
   "outputs": [
    {
     "data": {
      "text/plain": [
       "count    200000.000000\n",
       "mean        907.207110\n",
       "std         996.029036\n",
       "min           2.000000\n",
       "25%         374.000000\n",
       "50%         676.000000\n",
       "75%        1131.000000\n",
       "max       57921.000000\n",
       "Name: text, dtype: float64"
      ]
     },
     "execution_count": 65,
     "metadata": {},
     "output_type": "execute_result"
    },
    {
     "data": {
      "text/plain": [
       "count    50000.000000\n",
       "mean       909.844960\n",
       "std       1032.313375\n",
       "min         14.000000\n",
       "25%        370.000000\n",
       "50%        676.000000\n",
       "75%       1133.000000\n",
       "max      41861.000000\n",
       "Name: text, dtype: float64"
      ]
     },
     "execution_count": 65,
     "metadata": {},
     "output_type": "execute_result"
    }
   ],
   "source": [
    "train_char_len.describe()\n",
    "test_char_len.describe()"
   ]
  },
  {
   "cell_type": "markdown",
   "metadata": {},
   "source": [
    "小结：\n",
    "1. 训练集的最长字符长度为57921，最短的字符长度为2，有75%的句子字符长度在1131以下。\n",
    "2. 测试集的最长字符长度为41861，最短的字符长度为14，有75%的句子字符长度在1133以下。"
   ]
  },
  {
   "cell_type": "markdown",
   "metadata": {},
   "source": [
    "### 训练集和测试集的字符分布"
   ]
  },
  {
   "cell_type": "code",
   "execution_count": 64,
   "metadata": {
    "ExecuteTime": {
     "end_time": "2020-08-01T08:08:43.946595Z",
     "start_time": "2020-08-01T08:08:43.381756Z"
    }
   },
   "outputs": [
    {
     "data": {
      "text/plain": [
       "<matplotlib.axes._subplots.AxesSubplot object at 0x7fcdd9866790>"
      ]
     },
     "execution_count": 64,
     "metadata": {},
     "output_type": "execute_result"
    },
    {
     "data": {
      "text/plain": [
       "<matplotlib.axes._subplots.AxesSubplot object at 0x7fcdd9866790>"
      ]
     },
     "execution_count": 64,
     "metadata": {},
     "output_type": "execute_result"
    },
    {
     "data": {
      "text/plain": [
       "(0, 57921)"
      ]
     },
     "execution_count": 64,
     "metadata": {},
     "output_type": "execute_result"
    },
    {
     "data": {
      "text/plain": [
       "Text(0.5, 0, '字符长度')"
      ]
     },
     "execution_count": 64,
     "metadata": {},
     "output_type": "execute_result"
    },
    {
     "data": {
      "text/plain": [
       "Text(0, 0.5, '频率/区间')"
      ]
     },
     "execution_count": 64,
     "metadata": {},
     "output_type": "execute_result"
    },
    {
     "data": {
      "text/plain": [
       "Text(0.5, 1.0, '训练集和测试集的字符统计分布图')"
      ]
     },
     "execution_count": 64,
     "metadata": {},
     "output_type": "execute_result"
    },
    {
     "data": {
      "text/plain": [
       "<matplotlib.legend.Legend object at 0x7fcdd982e090>"
      ]
     },
     "execution_count": 64,
     "metadata": {},
     "output_type": "execute_result"
    },
    {
     "data": {
      "image/png": "[encoded data removed]",
      "text/plain": [
       "<Figure size 1008x504 with 1 Axes>"
      ]
     },
     "metadata": {
      "needs_background": "light"
     },
     "output_type": "display_data"
    }
   ],
   "source": [
    "sns.distplot(train_char_len, bins = 100)\n",
    "sns.distplot(test_char_len, bins = 100)\n",
    "plt.xlim([0, max(train_char_len.max(), test_char_len.max())])\n",
    "plt.xlabel(\"字符长度\")\n",
    "plt.ylabel(\"频率/区间\")\n",
    "plt.title(\"训练集和测试集的字符统计分布图\")\n",
    "plt.legend([\"train\", \"test\"])"
   ]
  },
  {
   "cell_type": "markdown",
   "metadata": {},
   "source": [
    "小结：\n",
    "从图中可以看出，训练集和测试集的字符大致上有着相同的分布"
   ]
  },
  {
   "cell_type": "code",
   "execution_count": 71,
   "metadata": {
    "ExecuteTime": {
     "end_time": "2020-08-01T14:39:12.095891Z",
     "start_time": "2020-08-01T14:39:12.038140Z"
    }
   },
   "outputs": [
    {
     "data": {
      "text/plain": [
       "Ks_2sampResult(statistic=0.004049999999999998, pvalue=0.5279614323123156)"
      ]
     },
     "execution_count": 71,
     "metadata": {},
     "output_type": "execute_result"
    }
   ],
   "source": [
    "# 使用ks检验\n",
    "scipy.stats.ks_2samp(train_char_len, test_char_len)"
   ]
  },
  {
   "cell_type": "markdown",
   "metadata": {},
   "source": [
    "ks检验的原假设为\"训练集和测试集在字符长度上有相同的分布\"，检验中p值为0.528<0.05，即不能接受原假设，我们可以认为两者有着相同的分布"
   ]
  },
  {
   "cell_type": "markdown",
   "metadata": {},
   "source": [
    "### 各类别的字符分布"
   ]
  },
  {
   "cell_type": "code",
   "execution_count": 76,
   "metadata": {
    "ExecuteTime": {
     "end_time": "2020-08-01T14:44:35.242603Z",
     "start_time": "2020-08-01T14:44:28.894894Z"
    }
   },
   "outputs": [],
   "source": [
    "train_df[\"length\"] = train_df.text.apply(lambda x: len(x.split(\" \")))\n",
    "test_df[\"length\"] = test_df.text.apply(lambda x: len(x.split(\" \")))"
   ]
  },
  {
   "cell_type": "code",
   "execution_count": 86,
   "metadata": {
    "ExecuteTime": {
     "end_time": "2020-08-01T14:51:49.965021Z",
     "start_time": "2020-08-01T14:51:47.706239Z"
    }
   },
   "outputs": [
    {
     "data": {
      "text/plain": [
       "<seaborn.axisgrid.FacetGrid object at 0x7fcdd593dcd0>"
      ]
     },
     "execution_count": 86,
     "metadata": {},
     "output_type": "execute_result"
    },
    {
     "data": {
      "text/plain": [
       "Text(0.5, 11.119999999999983, '新闻类别')"
      ]
     },
     "execution_count": 86,
     "metadata": {},
     "output_type": "execute_result"
    },
    {
     "data": {
      "text/plain": [
       "Text(-3.1299999999999955, 0.5, '字符长度')"
      ]
     },
     "execution_count": 86,
     "metadata": {},
     "output_type": "execute_result"
    },
    {
     "data": {
      "text/plain": [
       "Text(0.5, 1, '各类别的字符长度分布')"
      ]
     },
     "execution_count": 86,
     "metadata": {},
     "output_type": "execute_result"
    },
    {
     "data": {
      "image/png": "[encoded data removed]",
      "text/plain": [
       "<Figure size 360x360 with 1 Axes>"
      ]
     },
     "metadata": {
      "needs_background": "light"
     },
     "output_type": "display_data"
    }
   ],
   "source": [
    "# 训练集\n",
    "sns.catplot(x = \"label\", y = \"length\", data = train_df)\n",
    "plt.xlabel(\"新闻类别\")\n",
    "plt.ylabel(\"字符长度\")\n",
    "plt.title(\"各类别的字符长度分布\")"
   ]
  },
  {
   "cell_type": "markdown",
   "metadata": {},
   "source": [
    "小结：\n",
    "各新闻类别的分布不一定相同，而“1”新闻的字符长度的极值最大，在各类新闻中有着最大的新闻长度（股票新闻又臭又长），时尚/星座等新闻通常比较简短"
   ]
  },
  {
   "cell_type": "markdown",
   "metadata": {
    "ExecuteTime": {
     "end_time": "2020-08-01T08:15:38.787716Z",
     "start_time": "2020-08-01T08:15:38.773235Z"
    }
   },
   "source": [
    "### 各分布的统计汇总"
   ]
  },
  {
   "cell_type": "code",
   "execution_count": 102,
   "metadata": {
    "ExecuteTime": {
     "end_time": "2020-08-01T15:12:32.509260Z",
     "start_time": "2020-08-01T15:12:27.359491Z"
    }
   },
   "outputs": [],
   "source": [
    "with open(\"../data/label_len_describe.txt\", \"w+\") as f:\n",
    "    _ = f.write(\"label,count,mean,std,min,25%,50%,75%,max\")\n",
    "    _ = f.write(\"\\n\")\n",
    "    \n",
    "    for label in label_dict.values():\n",
    "        # 分别提取各类别的字符长度\n",
    "        temp = train_df[train_df.label == label]\n",
    "        temp_len_describe = temp.text.apply(lambda x: len(x.split(\" \"))).describe()\n",
    "    \n",
    "        # 各类别汇总\n",
    "        _ = f.write(f\"{label},\")\n",
    "        _ = f.write(\",\".join(map(lambda x: str(round(x, 3)), \\\n",
    "                                 list(temp_len_describe.values))))\n",
    "        _ = f.write(\"\\n\")"
   ]
  },
  {
   "cell_type": "code",
   "execution_count": 106,
   "metadata": {
    "ExecuteTime": {
     "end_time": "2020-08-01T15:14:32.513007Z",
     "start_time": "2020-08-01T15:14:32.492909Z"
    }
   },
   "outputs": [
    {
     "data": {
      "text/html": [
       "<div>\n",
       "<style scoped>\n",
       "    .dataframe tbody tr th:only-of-type {\n",
       "        vertical-align: middle;\n",
       "    }\n",
       "\n",
       "    .dataframe tbody tr th {\n",
       "        vertical-align: top;\n",
       "    }\n",
       "\n",
       "    .dataframe thead th {\n",
       "        text-align: right;\n",
       "    }\n",
       "</style>\n",
       "<table border=\"1\" class=\"dataframe\">\n",
       "  <thead>\n",
       "    <tr style=\"text-align: right;\">\n",
       "      <th></th>\n",
       "      <th>label</th>\n",
       "      <th>count</th>\n",
       "      <th>mean</th>\n",
       "      <th>std</th>\n",
       "      <th>min</th>\n",
       "      <th>25%</th>\n",
       "      <th>50%</th>\n",
       "      <th>75%</th>\n",
       "      <th>max</th>\n",
       "    </tr>\n",
       "  </thead>\n",
       "  <tbody>\n",
       "    <tr>\n",
       "      <th>0</th>\n",
       "      <td>0</td>\n",
       "      <td>38918.0</td>\n",
       "      <td>878.718</td>\n",
       "      <td>859.314</td>\n",
       "      <td>12.0</td>\n",
       "      <td>397.00</td>\n",
       "      <td>638.0</td>\n",
       "      <td>1017.00</td>\n",
       "      <td>18587.0</td>\n",
       "    </tr>\n",
       "    <tr>\n",
       "      <th>1</th>\n",
       "      <td>1</td>\n",
       "      <td>36945.0</td>\n",
       "      <td>870.364</td>\n",
       "      <td>1451.080</td>\n",
       "      <td>9.0</td>\n",
       "      <td>281.00</td>\n",
       "      <td>612.0</td>\n",
       "      <td>1059.00</td>\n",
       "      <td>57921.0</td>\n",
       "    </tr>\n",
       "    <tr>\n",
       "      <th>2</th>\n",
       "      <td>2</td>\n",
       "      <td>31425.0</td>\n",
       "      <td>1014.430</td>\n",
       "      <td>737.325</td>\n",
       "      <td>2.0</td>\n",
       "      <td>580.00</td>\n",
       "      <td>889.0</td>\n",
       "      <td>1262.00</td>\n",
       "      <td>41894.0</td>\n",
       "    </tr>\n",
       "    <tr>\n",
       "      <th>3</th>\n",
       "      <td>3</td>\n",
       "      <td>22133.0</td>\n",
       "      <td>784.775</td>\n",
       "      <td>739.364</td>\n",
       "      <td>17.0</td>\n",
       "      <td>340.00</td>\n",
       "      <td>566.0</td>\n",
       "      <td>966.00</td>\n",
       "      <td>10817.0</td>\n",
       "    </tr>\n",
       "    <tr>\n",
       "      <th>4</th>\n",
       "      <td>4</td>\n",
       "      <td>15016.0</td>\n",
       "      <td>649.706</td>\n",
       "      <td>718.713</td>\n",
       "      <td>25.0</td>\n",
       "      <td>293.00</td>\n",
       "      <td>439.0</td>\n",
       "      <td>722.00</td>\n",
       "      <td>14928.0</td>\n",
       "    </tr>\n",
       "    <tr>\n",
       "      <th>5</th>\n",
       "      <td>5</td>\n",
       "      <td>12232.0</td>\n",
       "      <td>1116.055</td>\n",
       "      <td>910.040</td>\n",
       "      <td>27.0</td>\n",
       "      <td>523.00</td>\n",
       "      <td>859.0</td>\n",
       "      <td>1402.00</td>\n",
       "      <td>15839.0</td>\n",
       "    </tr>\n",
       "    <tr>\n",
       "      <th>6</th>\n",
       "      <td>6</td>\n",
       "      <td>9985.0</td>\n",
       "      <td>1249.114</td>\n",
       "      <td>1203.525</td>\n",
       "      <td>16.0</td>\n",
       "      <td>483.00</td>\n",
       "      <td>907.0</td>\n",
       "      <td>1623.00</td>\n",
       "      <td>25728.0</td>\n",
       "    </tr>\n",
       "    <tr>\n",
       "      <th>7</th>\n",
       "      <td>7</td>\n",
       "      <td>8841.0</td>\n",
       "      <td>1157.883</td>\n",
       "      <td>942.102</td>\n",
       "      <td>11.0</td>\n",
       "      <td>541.00</td>\n",
       "      <td>994.0</td>\n",
       "      <td>1462.00</td>\n",
       "      <td>14469.0</td>\n",
       "    </tr>\n",
       "    <tr>\n",
       "      <th>8</th>\n",
       "      <td>8</td>\n",
       "      <td>7847.0</td>\n",
       "      <td>712.401</td>\n",
       "      <td>898.762</td>\n",
       "      <td>7.0</td>\n",
       "      <td>117.00</td>\n",
       "      <td>403.0</td>\n",
       "      <td>1018.50</td>\n",
       "      <td>15271.0</td>\n",
       "    </tr>\n",
       "    <tr>\n",
       "      <th>9</th>\n",
       "      <td>9</td>\n",
       "      <td>5878.0</td>\n",
       "      <td>833.627</td>\n",
       "      <td>739.656</td>\n",
       "      <td>17.0</td>\n",
       "      <td>434.00</td>\n",
       "      <td>678.0</td>\n",
       "      <td>994.75</td>\n",
       "      <td>23866.0</td>\n",
       "    </tr>\n",
       "    <tr>\n",
       "      <th>10</th>\n",
       "      <td>10</td>\n",
       "      <td>4920.0</td>\n",
       "      <td>911.138</td>\n",
       "      <td>958.409</td>\n",
       "      <td>14.0</td>\n",
       "      <td>451.75</td>\n",
       "      <td>590.0</td>\n",
       "      <td>1040.00</td>\n",
       "      <td>20622.0</td>\n",
       "    </tr>\n",
       "    <tr>\n",
       "      <th>11</th>\n",
       "      <td>11</td>\n",
       "      <td>3131.0</td>\n",
       "      <td>608.890</td>\n",
       "      <td>509.837</td>\n",
       "      <td>21.0</td>\n",
       "      <td>267.50</td>\n",
       "      <td>464.0</td>\n",
       "      <td>794.50</td>\n",
       "      <td>5729.0</td>\n",
       "    </tr>\n",
       "    <tr>\n",
       "      <th>12</th>\n",
       "      <td>12</td>\n",
       "      <td>1821.0</td>\n",
       "      <td>1194.969</td>\n",
       "      <td>1109.003</td>\n",
       "      <td>25.0</td>\n",
       "      <td>402.00</td>\n",
       "      <td>972.0</td>\n",
       "      <td>1489.00</td>\n",
       "      <td>8737.0</td>\n",
       "    </tr>\n",
       "    <tr>\n",
       "      <th>13</th>\n",
       "      <td>13</td>\n",
       "      <td>908.0</td>\n",
       "      <td>735.326</td>\n",
       "      <td>796.115</td>\n",
       "      <td>26.0</td>\n",
       "      <td>160.75</td>\n",
       "      <td>278.5</td>\n",
       "      <td>1109.50</td>\n",
       "      <td>6399.0</td>\n",
       "    </tr>\n",
       "  </tbody>\n",
       "</table>\n",
       "</div>"
      ],
      "text/plain": [
       "    label    count      mean       std   min     25%    50%      75%      max\n",
       "0       0  38918.0   878.718   859.314  12.0  397.00  638.0  1017.00  18587.0\n",
       "1       1  36945.0   870.364  1451.080   9.0  281.00  612.0  1059.00  57921.0\n",
       "2       2  31425.0  1014.430   737.325   2.0  580.00  889.0  1262.00  41894.0\n",
       "3       3  22133.0   784.775   739.364  17.0  340.00  566.0   966.00  10817.0\n",
       "4       4  15016.0   649.706   718.713  25.0  293.00  439.0   722.00  14928.0\n",
       "5       5  12232.0  1116.055   910.040  27.0  523.00  859.0  1402.00  15839.0\n",
       "6       6   9985.0  1249.114  1203.525  16.0  483.00  907.0  1623.00  25728.0\n",
       "7       7   8841.0  1157.883   942.102  11.0  541.00  994.0  1462.00  14469.0\n",
       "8       8   7847.0   712.401   898.762   7.0  117.00  403.0  1018.50  15271.0\n",
       "9       9   5878.0   833.627   739.656  17.0  434.00  678.0   994.75  23866.0\n",
       "10     10   4920.0   911.138   958.409  14.0  451.75  590.0  1040.00  20622.0\n",
       "11     11   3131.0   608.890   509.837  21.0  267.50  464.0   794.50   5729.0\n",
       "12     12   1821.0  1194.969  1109.003  25.0  402.00  972.0  1489.00   8737.0\n",
       "13     13    908.0   735.326   796.115  26.0  160.75  278.5  1109.50   6399.0"
      ]
     },
     "execution_count": 106,
     "metadata": {},
     "output_type": "execute_result"
    }
   ],
   "source": [
    "# 训练集各类别的汇总信息\n",
    "train_desc_df = pd.read_csv(\"../data/label_len_describe.txt\")\n",
    "train_desc_df"
   ]
  },
  {
   "cell_type": "markdown",
   "metadata": {
    "ExecuteTime": {
     "end_time": "2020-08-01T15:13:49.121958Z",
     "start_time": "2020-08-01T15:13:49.088741Z"
    }
   },
   "source": [
    "#### 字符长度的均值 "
   ]
  },
  {
   "cell_type": "code",
   "execution_count": 116,
   "metadata": {
    "ExecuteTime": {
     "end_time": "2020-08-01T15:21:19.020092Z",
     "start_time": "2020-08-01T15:21:18.239913Z"
    }
   },
   "outputs": [
    {
     "data": {
      "text/plain": [
       "<matplotlib.axes._subplots.AxesSubplot object at 0x7fcdd4de6d50>"
      ]
     },
     "execution_count": 116,
     "metadata": {},
     "output_type": "execute_result"
    },
    {
     "data": {
      "text/plain": [
       "Text(0.5, 0, '新闻类别')"
      ]
     },
     "execution_count": 116,
     "metadata": {},
     "output_type": "execute_result"
    },
    {
     "data": {
      "text/plain": [
       "Text(0, 0.5, '平均长度')"
      ]
     },
     "execution_count": 116,
     "metadata": {},
     "output_type": "execute_result"
    },
    {
     "data": {
      "text/plain": [
       "Text(0.5, 1.0, '各新闻的平均长度')"
      ]
     },
     "execution_count": 116,
     "metadata": {},
     "output_type": "execute_result"
    },
    {
     "data": {
      "image/png": "[encoded data removed]",
      "text/plain": [
       "<Figure size 1008x504 with 1 Axes>"
      ]
     },
     "metadata": {
      "needs_background": "light"
     },
     "output_type": "display_data"
    }
   ],
   "source": [
    "train_desc_df[\"mean\"].plot.bar(rot=0)\n",
    "plt.xlabel(\"新闻类别\")\n",
    "plt.ylabel(\"平均长度\")\n",
    "plt.title(\"各新闻的平均长度\")"
   ]
  },
  {
   "cell_type": "markdown",
   "metadata": {
    "ExecuteTime": {
     "end_time": "2020-08-01T12:45:48.973461Z",
     "start_time": "2020-08-01T12:45:48.969682Z"
    }
   },
   "source": [
    "可以看到第6类(教育新闻)和第12类(星座新闻)的平均长度最长，第4类（社会新闻）和第11类（彩票新闻）的平均长度最短"
   ]
  },
  {
   "cell_type": "markdown",
   "metadata": {},
   "source": [
    "#### 字符长度的最小值"
   ]
  },
  {
   "cell_type": "code",
   "execution_count": 119,
   "metadata": {
    "ExecuteTime": {
     "end_time": "2020-08-01T15:25:31.792296Z",
     "start_time": "2020-08-01T15:25:31.545842Z"
    }
   },
   "outputs": [
    {
     "data": {
      "text/plain": [
       "<matplotlib.axes._subplots.AxesSubplot object at 0x7fcdd51843d0>"
      ]
     },
     "execution_count": 119,
     "metadata": {},
     "output_type": "execute_result"
    },
    {
     "data": {
      "text/plain": [
       "Text(0.5, 0, '新闻类别')"
      ]
     },
     "execution_count": 119,
     "metadata": {},
     "output_type": "execute_result"
    },
    {
     "data": {
      "text/plain": [
       "Text(0, 0.5, '最小长度')"
      ]
     },
     "execution_count": 119,
     "metadata": {},
     "output_type": "execute_result"
    },
    {
     "data": {
      "text/plain": [
       "Text(0.5, 1.0, '各新闻的最小长度')"
      ]
     },
     "execution_count": 119,
     "metadata": {},
     "output_type": "execute_result"
    },
    {
     "data": {
      "image/png": "[encoded data removed]",
      "text/plain": [
       "<Figure size 1008x504 with 1 Axes>"
      ]
     },
     "metadata": {
      "needs_background": "light"
     },
     "output_type": "display_data"
    }
   ],
   "source": [
    "train_desc_df[\"min\"].plot.bar(rot=0)\n",
    "plt.xlabel(\"新闻类别\")\n",
    "plt.ylabel(\"最小长度\")\n",
    "plt.title(\"各新闻的最小长度\")"
   ]
  },
  {
   "cell_type": "markdown",
   "metadata": {
    "ExecuteTime": {
     "end_time": "2020-08-01T12:46:09.609362Z",
     "start_time": "2020-08-01T12:46:09.555669Z"
    }
   },
   "source": [
    "体育新闻（2类）的最短长度最短，为2。社会（5类）和星座（13类）新闻的最短长度最长"
   ]
  },
  {
   "cell_type": "markdown",
   "metadata": {},
   "source": [
    "#### 字符长度的最大值"
   ]
  },
  {
   "cell_type": "code",
   "execution_count": 120,
   "metadata": {
    "ExecuteTime": {
     "end_time": "2020-08-01T15:27:33.997807Z",
     "start_time": "2020-08-01T15:27:33.790952Z"
    }
   },
   "outputs": [
    {
     "data": {
      "text/plain": [
       "<matplotlib.axes._subplots.AxesSubplot object at 0x7fcdd538e790>"
      ]
     },
     "execution_count": 120,
     "metadata": {},
     "output_type": "execute_result"
    },
    {
     "data": {
      "text/plain": [
       "Text(0.5, 0, '新闻类别')"
      ]
     },
     "execution_count": 120,
     "metadata": {},
     "output_type": "execute_result"
    },
    {
     "data": {
      "text/plain": [
       "Text(0, 0.5, '最大长度')"
      ]
     },
     "execution_count": 120,
     "metadata": {},
     "output_type": "execute_result"
    },
    {
     "data": {
      "text/plain": [
       "Text(0.5, 1.0, '各新闻的最大长度')"
      ]
     },
     "execution_count": 120,
     "metadata": {},
     "output_type": "execute_result"
    },
    {
     "data": {
      "image/png": "[encoded data removed]",
      "text/plain": [
       "<Figure size 1008x504 with 1 Axes>"
      ]
     },
     "metadata": {
      "needs_background": "light"
     },
     "output_type": "display_data"
    }
   ],
   "source": [
    "train_desc_df[\"max\"].plot.bar(rot=0)\n",
    "plt.xlabel(\"新闻类别\")\n",
    "plt.ylabel(\"最大长度\")\n",
    "plt.title(\"各新闻的最大长度\")"
   ]
  },
  {
   "cell_type": "markdown",
   "metadata": {
    "ExecuteTime": {
     "end_time": "2020-08-01T15:29:59.856612Z",
     "start_time": "2020-08-01T15:29:59.843311Z"
    }
   },
   "source": [
    "时尚（11类）和星座新闻（13类）的最长长度最短。股票新闻（1类）的最长长度最长，为57921"
   ]
  },
  {
   "cell_type": "markdown",
   "metadata": {
    "ExecuteTime": {
     "end_time": "2020-08-01T15:28:15.721130Z",
     "start_time": "2020-08-01T15:28:15.710752Z"
    }
   },
   "source": [
    "#### 字符长度的75%"
   ]
  },
  {
   "cell_type": "code",
   "execution_count": 123,
   "metadata": {
    "ExecuteTime": {
     "end_time": "2020-08-01T15:31:08.334089Z",
     "start_time": "2020-08-01T15:31:08.097661Z"
    }
   },
   "outputs": [
    {
     "data": {
      "text/plain": [
       "<matplotlib.axes._subplots.AxesSubplot object at 0x7fcdd537acd0>"
      ]
     },
     "execution_count": 123,
     "metadata": {},
     "output_type": "execute_result"
    },
    {
     "data": {
      "text/plain": [
       "Text(0.5, 0, '新闻类别')"
      ]
     },
     "execution_count": 123,
     "metadata": {},
     "output_type": "execute_result"
    },
    {
     "data": {
      "text/plain": [
       "Text(0, 0.5, '长度')"
      ]
     },
     "execution_count": 123,
     "metadata": {},
     "output_type": "execute_result"
    },
    {
     "data": {
      "text/plain": [
       "Text(0.5, 1.0, '各新闻的75%数据的长度分布')"
      ]
     },
     "execution_count": 123,
     "metadata": {},
     "output_type": "execute_result"
    },
    {
     "data": {
      "image/png": "[encoded data removed]",
      "text/plain": [
       "<Figure size 1008x504 with 1 Axes>"
      ]
     },
     "metadata": {
      "needs_background": "light"
     },
     "output_type": "display_data"
    }
   ],
   "source": [
    "train_desc_df[\"75%\"].plot.bar(rot=0)\n",
    "plt.xlabel(\"新闻类别\")\n",
    "plt.ylabel(\"长度\")\n",
    "plt.title(\"各新闻的75%数据的长度分布\")"
   ]
  },
  {
   "cell_type": "markdown",
   "metadata": {},
   "source": [
    "社会（4类）和时尚（11类）新闻有75%的字符长度小于800，科技（0类）、股票（1类）、时政（3类）、家居（8类）、游戏（9类）、房产（10类）和星座（13类）新闻的长度在1200之内，教育类（6类）的新闻最长"
   ]
  },
  {
   "cell_type": "markdown",
   "metadata": {},
   "source": [
    "#### 字符长度的标准差"
   ]
  },
  {
   "cell_type": "code",
   "execution_count": 124,
   "metadata": {
    "ExecuteTime": {
     "end_time": "2020-08-01T15:33:19.038535Z",
     "start_time": "2020-08-01T15:33:18.798134Z"
    }
   },
   "outputs": [
    {
     "data": {
      "text/plain": [
       "<matplotlib.axes._subplots.AxesSubplot object at 0x7fcdd53c9c50>"
      ]
     },
     "execution_count": 124,
     "metadata": {},
     "output_type": "execute_result"
    },
    {
     "data": {
      "text/plain": [
       "Text(0.5, 0, '新闻类别')"
      ]
     },
     "execution_count": 124,
     "metadata": {},
     "output_type": "execute_result"
    },
    {
     "data": {
      "text/plain": [
       "Text(0, 0.5, '标准差')"
      ]
     },
     "execution_count": 124,
     "metadata": {},
     "output_type": "execute_result"
    },
    {
     "data": {
      "text/plain": [
       "Text(0.5, 1.0, '各新闻的字符长度标准差')"
      ]
     },
     "execution_count": 124,
     "metadata": {},
     "output_type": "execute_result"
    },
    {
     "data": {
      "image/png": "[encoded data removed]",
      "text/plain": [
       "<Figure size 1008x504 with 1 Axes>"
      ]
     },
     "metadata": {
      "needs_background": "light"
     },
     "output_type": "display_data"
    }
   ],
   "source": [
    "train_desc_df[\"std\"].plot.bar(rot=0)\n",
    "plt.xlabel(\"新闻类别\")\n",
    "plt.ylabel(\"标准差\")\n",
    "plt.title(\"各新闻的字符长度标准差\")"
   ]
  },
  {
   "cell_type": "markdown",
   "metadata": {},
   "source": [
    "股票新闻（1类）的标准差最大，时尚新闻（11类）的标准差最小"
   ]
  }
 ],
 "metadata": {
  "kernelspec": {
   "display_name": "Python 3",
   "language": "python",
   "name": "python3"
  },
  "language_info": {
   "codemirror_mode": {
    "name": "ipython",
    "version": 3
   },
   "file_extension": ".py",
   "mimetype": "text/x-python",
   "name": "python",
   "nbconvert_exporter": "python",
   "pygments_lexer": "ipython3",
   "version": "3.7.6"
  },
  "toc": {
   "base_numbering": 1,
   "nav_menu": {},
   "number_sections": true,
   "sideBar": true,
   "skip_h1_title": false,
   "title_cell": "Table of Contents",
   "title_sidebar": "Contents",
   "toc_cell": false,
   "toc_position": {
    "height": "calc(100% - 180px)",
    "left": "10px",
    "top": "150px",
    "width": "241.043px"
   },
   "toc_section_display": true,
   "toc_window_display": true
  }
 },
 "nbformat": 4,
 "nbformat_minor": 4
}
